{
 "cells": [
  {
   "attachments": {},
   "cell_type": "markdown",
   "id": "e2570f98",
   "metadata": {},
   "source": [
    "# ***Proyecto final***\n",
    "\n",
    "## **Curso Ciencia de Datos en Python**"
   ]
  },
  {
   "attachments": {},
   "cell_type": "markdown",
   "id": "001608b6",
   "metadata": {},
   "source": [
    "### Maria Fernanda Morales Alvarez  Carné 22007685\n",
    "### Andrea Celeste Gonzalez Torres  Carné 22007687"
   ]
  },
  {
   "attachments": {},
   "cell_type": "markdown",
   "id": "caa9979b",
   "metadata": {},
   "source": [
    "Base de datos: Data de las ventas realizadas por un supermercado la información fue obtenida en la página web de Kaggle Datasets. El alcancel del proyecto es realizar el analisis de las ventas efectuadas durante los años 2018, 2019, 2020 y 2021.\n",
    "\n",
    "El análisis estará comprendido en las ventas realizadas por sector y ubicación geografica de los clientes, tendencia de las ventas por producto que permitira detectar los productos más vendidos, conocer a los clientes, las preferencias en los productos y marcas, además describir nuevos habitos de consumo en los clientes y la adquisición de nuevos productos. \n",
    "\n",
    "Ventas por temporadas, cambios de consumo de los productos durante el año, tendencia temporal y ganancias y rendimiento obtenidas por el supermercado.\n",
    "\n",
    "Establecer informes de ventas por productos en el cual se mida la ganancia generada, rendimiento desde una perspectiva demografica y por demanda de los clientes. Tambien medir el rendimiento de los empleados. "
   ]
  },
  {
   "attachments": {},
   "cell_type": "markdown",
   "id": "2da0139a",
   "metadata": {},
   "source": [
    "Exploración de la data: la data obtenida esta conformada por dos archivos uno en forma CSV el cual contiene el nombre de los gerentes de región y otro en Excel contiene el detalle de las ventas realizadas.\n",
    "\n",
    "***Descripción de los archivos:***\n",
    "\n",
    "**Archivo personas**: contiene 3 columnas y 4 datos\n",
    "\n",
    "1. id. gerente: codigo de identificación asignado a cada gerente (código único), tipo de dato INT\n",
    "2. región: región a la que esta asignado el gerente, tipo de dato VARCHAR\n",
    "3. Gerente regional: Nombre del gerente asignado a la región, tipo de dato VARCHAR\n",
    "\n",
    "**Archivo data**: contiene 20 columnas con 10254 datos\n",
    "\n",
    "1. id. de la fila: número correlativo asignado a cada registro de la data, tipo de dato INT\n",
    "2. id. del pedido: código que identificada cada pedido integrado por dos letras MX o US, guión, año en el que se efectuo el pedido, guión y un correlativo de pedido, tipo de dato VARCHAR\n",
    "3. Fecha del pedido: Fecha en la que el cliente realizo el pedido, tipo de dato DATE\n",
    "4. Fecha de envio: fecha de despacho de bodega del producto, tipo de dato DATE\n",
    "5. Forma de envio: Forma temporal del envio del producto las cuales pueden ser el mismo día, urgente (1-3 días), rápido (3-5 días) o estándar (5-7 días), tipo de dato VARCHAR\n",
    "6. Id. del cliente: corralativo asignado a cada cliente compuesto por la primer letra del nombre y del primer apellido, guión y un número, tipo de dato VARCHAR\n",
    "7. Nombre del cliente: nombre del cliente, tipo de dato VARCHAR\n",
    "8. Segmento: segmento al que pertenece el cliente los cuales pueden ser cliente, empresa pequeña o empresa, tipo de dato VARCHAR\n",
    "9. Ciudad: ciudad de ubicación del cliente, tipo de dato VARCHAR\n",
    "10. Estado: Estado de ubicación del cliente, tipo de dato VARCHAR\n",
    "11. Pais/región: País de ubicación del cliente, tipo de dato VARCHAR\n",
    "12. Región: Región de ubicación del cliente Sur, Norte, Centro o Caribe, tipo de dato VARCHAR\n",
    "13. Id. del producto: código de identificación de los productos conformado por 3 letras de la categoria a la que pertenece el producto, guión, dos letras de la subcategoria del producto, guión y un numero correlativo, tipo de dato VARCHAR\n",
    "14. Categoria: categoria a la que pertenece el producto Material de oficina, Tecnologia o Mobiliario, tipo de dato VARCHAR\n",
    "15. Sub categoria: clasificación de las caterigorias de los productos, tipo de dato VARCHAR\n",
    "16. Nombre del Producto: nombre comercial asignado del producto, tipo de dato VARCHAR\n",
    "17. Ventas: Monto total de la venta efectuada, tipo de dato DOUBLE PRECISION\n",
    "18. Cantidad: unidades adquiridas por el cliente, tipo de dato INT\n",
    "19. Descuento: monto del descuento otorgado al cliente en la compra, tipo de dato DOUBLE PRECISION\n",
    "20. Ganancia: utilidad obtenida por la venta efectuada a los clientes, tipo de dato DOUBLE PRECISION\n"
   ]
  },
  {
   "attachments": {},
   "cell_type": "markdown",
   "id": "ddee8b51",
   "metadata": {},
   "source": [
    "***Modelo de datos:*** \n",
    "* Para la arquitectura del modelo de datos se utilizara un modelo snowflake, en el cual se crearan las siguientes tablas:\n",
    "    1.  Dim Clientes\n",
    "        * Dim Región\n",
    "        * Dim personal\n",
    "    2.  Dim Producto\n",
    "    3.  Dim Calendario\n",
    "    4.  Dim Forma envio\n",
    "    5.  Fact Table \n",
    "    \n",
    "* La carga de los datos se realizara utilizando la aplicación S3 de AWS\n",
    "* Base de datos montada en RDS con Postgresql\n",
    "* El procesamiento se realizara en una instancia de EC2 corriendo Python\n",
    "* Creación de Data Warehouses en MySQL, montada en RDS \n",
    "* Lectura de tablas utilizando la aplicación DBeaver"
   ]
  }
 ],
 "metadata": {
  "kernelspec": {
   "display_name": "base",
   "language": "python",
   "name": "python3"
  },
  "language_info": {
   "codemirror_mode": {
    "name": "ipython",
    "version": 3
   },
   "file_extension": ".py",
   "mimetype": "text/x-python",
   "name": "python",
   "nbconvert_exporter": "python",
   "pygments_lexer": "ipython3",
   "version": "3.9.12"
  }
 },
 "nbformat": 4,
 "nbformat_minor": 5
}
