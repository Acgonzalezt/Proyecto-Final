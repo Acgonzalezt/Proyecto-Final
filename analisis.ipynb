{
 "cells": [
  {
   "cell_type": "code",
   "execution_count": 91,
   "metadata": {},
   "outputs": [],
   "source": [
    "import pandas as pd\n",
    "import numpy as np\n",
    "from faker import Faker\n",
    "import random\n",
    "import datetime\n",
    "import boto3\n",
    "import psycopg2\n",
    "import configparser\n",
    "from sqlalchemy import create_engine\n",
    "import pyodbc\n",
    "import seaborn as sn\n",
    "import matplotlib.pyplot as mp"
   ]
  },
  {
   "cell_type": "code",
   "execution_count": 92,
   "metadata": {},
   "outputs": [
    {
     "data": {
      "text/plain": [
       "['escproy.cfg']"
      ]
     },
     "execution_count": 92,
     "metadata": {},
     "output_type": "execute_result"
    }
   ],
   "source": [
    "config = configparser.ConfigParser()\n",
    "config.read('escproy.cfg')"
   ]
  },
  {
   "cell_type": "code",
   "execution_count": 93,
   "metadata": {},
   "outputs": [],
   "source": [
    "RDS_DW_HOST='dw-proy.cjsvaexfxmdn.us-east-1.rds.amazonaws.com'"
   ]
  },
  {
   "cell_type": "code",
   "execution_count": 94,
   "metadata": {},
   "outputs": [],
   "source": [
    "postgres_driver = f\"\"\"postgresql://{config.get('RDS_POST', 'DB_USER')}:{config.get('RDS_POST', 'DB_PASSWORD')}@{RDS_DW_HOST}:{config.get('RDS_POST', 'DB_PORT')}/{config.get('RDS_POST', 'DB_NAME')}\"\"\""
   ]
  },
  {
   "cell_type": "code",
   "execution_count": 95,
   "metadata": {},
   "outputs": [
    {
     "data": {
      "text/html": [
       "<div>\n",
       "<style scoped>\n",
       "    .dataframe tbody tr th:only-of-type {\n",
       "        vertical-align: middle;\n",
       "    }\n",
       "\n",
       "    .dataframe tbody tr th {\n",
       "        vertical-align: top;\n",
       "    }\n",
       "\n",
       "    .dataframe thead th {\n",
       "        text-align: right;\n",
       "    }\n",
       "</style>\n",
       "<table border=\"1\" class=\"dataframe\">\n",
       "  <thead>\n",
       "    <tr style=\"text-align: right;\">\n",
       "      <th></th>\n",
       "      <th>index</th>\n",
       "      <th>Id. del pedido</th>\n",
       "      <th>Fecha del pedido</th>\n",
       "      <th>Fecha de envío</th>\n",
       "      <th>Id. del cliente</th>\n",
       "      <th>Id. del producto</th>\n",
       "      <th>Ventas</th>\n",
       "      <th>Cantidad</th>\n",
       "      <th>Descuento</th>\n",
       "      <th>Ganancia</th>\n",
       "      <th>id forma envio</th>\n",
       "      <th>id_fecha</th>\n",
       "    </tr>\n",
       "  </thead>\n",
       "  <tbody>\n",
       "    <tr>\n",
       "      <th>0</th>\n",
       "      <td>0</td>\n",
       "      <td>MX-2021-111899</td>\n",
       "      <td>2021-04-02</td>\n",
       "      <td>2021-04-06</td>\n",
       "      <td>AM-11365</td>\n",
       "      <td>MAT-AR-10004857</td>\n",
       "      <td>591.0</td>\n",
       "      <td>3</td>\n",
       "      <td>0.0</td>\n",
       "      <td>206.4</td>\n",
       "      <td>101</td>\n",
       "      <td>202142</td>\n",
       "    </tr>\n",
       "  </tbody>\n",
       "</table>\n",
       "</div>"
      ],
      "text/plain": [
       "   index  Id. del pedido Fecha del pedido Fecha de envío Id. del cliente  \\\n",
       "0      0  MX-2021-111899       2021-04-02     2021-04-06        AM-11365   \n",
       "\n",
       "  Id. del producto  Ventas  Cantidad  Descuento  Ganancia  id forma envio  \\\n",
       "0  MAT-AR-10004857   591.0         3        0.0     206.4             101   \n",
       "\n",
       "  id_fecha  \n",
       "0   202142  "
      ]
     },
     "execution_count": 95,
     "metadata": {},
     "output_type": "execute_result"
    }
   ],
   "source": [
    "sql_query = 'SELECT * FROM fact_table;'\n",
    "fact_table = pd.read_sql(sql_query, postgres_driver)\n",
    "fact_table.head(1)"
   ]
  },
  {
   "cell_type": "code",
   "execution_count": 96,
   "metadata": {},
   "outputs": [
    {
     "data": {
      "text/html": [
       "<div>\n",
       "<style scoped>\n",
       "    .dataframe tbody tr th:only-of-type {\n",
       "        vertical-align: middle;\n",
       "    }\n",
       "\n",
       "    .dataframe tbody tr th {\n",
       "        vertical-align: top;\n",
       "    }\n",
       "\n",
       "    .dataframe thead th {\n",
       "        text-align: right;\n",
       "    }\n",
       "</style>\n",
       "<table border=\"1\" class=\"dataframe\">\n",
       "  <thead>\n",
       "    <tr style=\"text-align: right;\">\n",
       "      <th></th>\n",
       "      <th>index</th>\n",
       "      <th>Id. del cliente</th>\n",
       "      <th>Nombre del cliente</th>\n",
       "      <th>Segmento</th>\n",
       "      <th>Ciudad</th>\n",
       "      <th>Estado</th>\n",
       "      <th>País/Región</th>\n",
       "      <th>Región</th>\n",
       "      <th>id gerente</th>\n",
       "      <th>Gerente regional</th>\n",
       "    </tr>\n",
       "  </thead>\n",
       "  <tbody>\n",
       "    <tr>\n",
       "      <th>0</th>\n",
       "      <td>0</td>\n",
       "      <td>AM-11365</td>\n",
       "      <td>Araceli Manzanares</td>\n",
       "      <td>Empresa</td>\n",
       "      <td>Cruzeiro do Sul</td>\n",
       "      <td>Acre</td>\n",
       "      <td>Brasil</td>\n",
       "      <td>Sur</td>\n",
       "      <td>1004</td>\n",
       "      <td>Gabriela Bustamante</td>\n",
       "    </tr>\n",
       "  </tbody>\n",
       "</table>\n",
       "</div>"
      ],
      "text/plain": [
       "   index Id. del cliente  Nombre del cliente Segmento           Ciudad Estado  \\\n",
       "0      0        AM-11365  Araceli Manzanares  Empresa  Cruzeiro do Sul   Acre   \n",
       "\n",
       "  País/Región Región  id gerente     Gerente regional  \n",
       "0      Brasil    Sur        1004  Gabriela Bustamante  "
      ]
     },
     "execution_count": 96,
     "metadata": {},
     "output_type": "execute_result"
    }
   ],
   "source": [
    "sql_query = 'SELECT * FROM dimclientes;'\n",
    "dimclientes = pd.read_sql(sql_query, postgres_driver)\n",
    "dimclientes.head(1)"
   ]
  },
  {
   "cell_type": "code",
   "execution_count": 97,
   "metadata": {},
   "outputs": [
    {
     "name": "stderr",
     "output_type": "stream",
     "text": [
      "Exception during reset or similar\n",
      "Traceback (most recent call last):\n",
      "  File \"c:\\Users\\Andrea\\anaconda3\\lib\\site-packages\\sqlalchemy\\pool\\base.py\", line 739, in _finalize_fairy\n",
      "    fairy._reset(pool)\n",
      "  File \"c:\\Users\\Andrea\\anaconda3\\lib\\site-packages\\sqlalchemy\\pool\\base.py\", line 988, in _reset\n",
      "    pool._dialect.do_rollback(self)\n",
      "  File \"c:\\Users\\Andrea\\anaconda3\\lib\\site-packages\\sqlalchemy\\engine\\default.py\", line 682, in do_rollback\n",
      "    dbapi_connection.rollback()\n",
      "KeyboardInterrupt\n"
     ]
    },
    {
     "ename": "KeyboardInterrupt",
     "evalue": "",
     "output_type": "error",
     "traceback": [
      "\u001b[1;31m---------------------------------------------------------------------------\u001b[0m",
      "\u001b[1;31mKeyboardInterrupt\u001b[0m                         Traceback (most recent call last)",
      "\u001b[1;32mc:\\Users\\Andrea\\Desktop\\Python\\analisis.ipynb Cell 7\u001b[0m in \u001b[0;36m<cell line: 2>\u001b[1;34m()\u001b[0m\n\u001b[0;32m      <a href='vscode-notebook-cell:/c%3A/Users/Andrea/Desktop/Python/analisis.ipynb#X66sZmlsZQ%3D%3D?line=0'>1</a>\u001b[0m sql_query \u001b[39m=\u001b[39m \u001b[39m'\u001b[39m\u001b[39mSELECT * FROM dimenvio;\u001b[39m\u001b[39m'\u001b[39m\n\u001b[1;32m----> <a href='vscode-notebook-cell:/c%3A/Users/Andrea/Desktop/Python/analisis.ipynb#X66sZmlsZQ%3D%3D?line=1'>2</a>\u001b[0m dimenvio \u001b[39m=\u001b[39m pd\u001b[39m.\u001b[39;49mread_sql(sql_query, postgres_driver)\n\u001b[0;32m      <a href='vscode-notebook-cell:/c%3A/Users/Andrea/Desktop/Python/analisis.ipynb#X66sZmlsZQ%3D%3D?line=2'>3</a>\u001b[0m dimenvio\u001b[39m.\u001b[39mhead(\u001b[39m1\u001b[39m)\n",
      "File \u001b[1;32mc:\\Users\\Andrea\\anaconda3\\lib\\site-packages\\pandas\\io\\sql.py:576\u001b[0m, in \u001b[0;36mread_sql\u001b[1;34m(sql, con, index_col, coerce_float, params, parse_dates, columns, chunksize)\u001b[0m\n\u001b[0;32m    566\u001b[0m     \u001b[39mreturn\u001b[39;00m pandas_sql\u001b[39m.\u001b[39mread_query(\n\u001b[0;32m    567\u001b[0m         sql,\n\u001b[0;32m    568\u001b[0m         index_col\u001b[39m=\u001b[39mindex_col,\n\u001b[1;32m   (...)\u001b[0m\n\u001b[0;32m    572\u001b[0m         chunksize\u001b[39m=\u001b[39mchunksize,\n\u001b[0;32m    573\u001b[0m     )\n\u001b[0;32m    575\u001b[0m \u001b[39mtry\u001b[39;00m:\n\u001b[1;32m--> 576\u001b[0m     _is_table_name \u001b[39m=\u001b[39m pandas_sql\u001b[39m.\u001b[39;49mhas_table(sql)\n\u001b[0;32m    577\u001b[0m \u001b[39mexcept\u001b[39;00m \u001b[39mException\u001b[39;00m:\n\u001b[0;32m    578\u001b[0m     \u001b[39m# using generic exception to catch errors from sql drivers (GH24988)\u001b[39;00m\n\u001b[0;32m    579\u001b[0m     _is_table_name \u001b[39m=\u001b[39m \u001b[39mFalse\u001b[39;00m\n",
      "File \u001b[1;32mc:\\Users\\Andrea\\anaconda3\\lib\\site-packages\\pandas\\io\\sql.py:1763\u001b[0m, in \u001b[0;36mSQLDatabase.has_table\u001b[1;34m(self, name, schema)\u001b[0m\n\u001b[0;32m   1760\u001b[0m     \u001b[39mfrom\u001b[39;00m \u001b[39msqlalchemy\u001b[39;00m \u001b[39mimport\u001b[39;00m inspect\n\u001b[0;32m   1762\u001b[0m     insp \u001b[39m=\u001b[39m inspect(\u001b[39mself\u001b[39m\u001b[39m.\u001b[39mconnectable)\n\u001b[1;32m-> 1763\u001b[0m     \u001b[39mreturn\u001b[39;00m insp\u001b[39m.\u001b[39;49mhas_table(name, schema \u001b[39mor\u001b[39;49;00m \u001b[39mself\u001b[39;49m\u001b[39m.\u001b[39;49mmeta\u001b[39m.\u001b[39;49mschema)\n\u001b[0;32m   1764\u001b[0m \u001b[39melse\u001b[39;00m:\n\u001b[0;32m   1765\u001b[0m     \u001b[39mreturn\u001b[39;00m \u001b[39mself\u001b[39m\u001b[39m.\u001b[39mconnectable\u001b[39m.\u001b[39mrun_callable(\n\u001b[0;32m   1766\u001b[0m         \u001b[39mself\u001b[39m\u001b[39m.\u001b[39mconnectable\u001b[39m.\u001b[39mdialect\u001b[39m.\u001b[39mhas_table, name, schema \u001b[39mor\u001b[39;00m \u001b[39mself\u001b[39m\u001b[39m.\u001b[39mmeta\u001b[39m.\u001b[39mschema\n\u001b[0;32m   1767\u001b[0m     )\n",
      "File \u001b[1;32mc:\\Users\\Andrea\\anaconda3\\lib\\site-packages\\sqlalchemy\\engine\\reflection.py:283\u001b[0m, in \u001b[0;36mInspector.has_table\u001b[1;34m(self, table_name, schema)\u001b[0m\n\u001b[0;32m    281\u001b[0m \u001b[39m# TODO: info_cache?\u001b[39;00m\n\u001b[0;32m    282\u001b[0m \u001b[39mwith\u001b[39;00m \u001b[39mself\u001b[39m\u001b[39m.\u001b[39m_operation_context() \u001b[39mas\u001b[39;00m conn:\n\u001b[1;32m--> 283\u001b[0m     \u001b[39mreturn\u001b[39;00m \u001b[39mself\u001b[39m\u001b[39m.\u001b[39mdialect\u001b[39m.\u001b[39mhas_table(conn, table_name, schema)\n",
      "File \u001b[1;32mc:\\Users\\Andrea\\anaconda3\\lib\\contextlib.py:126\u001b[0m, in \u001b[0;36m_GeneratorContextManager.__exit__\u001b[1;34m(self, typ, value, traceback)\u001b[0m\n\u001b[0;32m    124\u001b[0m \u001b[39mif\u001b[39;00m typ \u001b[39mis\u001b[39;00m \u001b[39mNone\u001b[39;00m:\n\u001b[0;32m    125\u001b[0m     \u001b[39mtry\u001b[39;00m:\n\u001b[1;32m--> 126\u001b[0m         \u001b[39mnext\u001b[39;49m(\u001b[39mself\u001b[39;49m\u001b[39m.\u001b[39;49mgen)\n\u001b[0;32m    127\u001b[0m     \u001b[39mexcept\u001b[39;00m \u001b[39mStopIteration\u001b[39;00m:\n\u001b[0;32m    128\u001b[0m         \u001b[39mreturn\u001b[39;00m \u001b[39mFalse\u001b[39;00m\n",
      "File \u001b[1;32mc:\\Users\\Andrea\\anaconda3\\lib\\site-packages\\sqlalchemy\\engine\\reflection.py:206\u001b[0m, in \u001b[0;36mInspector._operation_context\u001b[1;34m(self)\u001b[0m\n\u001b[0;32m    204\u001b[0m \u001b[39mfinally\u001b[39;00m:\n\u001b[0;32m    205\u001b[0m     \u001b[39mif\u001b[39;00m \u001b[39mself\u001b[39m\u001b[39m.\u001b[39m_op_context_requires_connect:\n\u001b[1;32m--> 206\u001b[0m         conn\u001b[39m.\u001b[39;49mclose()\n",
      "File \u001b[1;32mc:\\Users\\Andrea\\anaconda3\\lib\\site-packages\\sqlalchemy\\engine\\base.py:1161\u001b[0m, in \u001b[0;36mConnection.close\u001b[1;34m(self)\u001b[0m\n\u001b[0;32m   1159\u001b[0m     conn\u001b[39m.\u001b[39m_close_no_reset()\n\u001b[0;32m   1160\u001b[0m \u001b[39melse\u001b[39;00m:\n\u001b[1;32m-> 1161\u001b[0m     conn\u001b[39m.\u001b[39;49mclose()\n\u001b[0;32m   1163\u001b[0m \u001b[39m# There is a slight chance that conn.close() may have\u001b[39;00m\n\u001b[0;32m   1164\u001b[0m \u001b[39m# triggered an invalidation here in which case\u001b[39;00m\n\u001b[0;32m   1165\u001b[0m \u001b[39m# _dbapi_connection would already be None, however usually\u001b[39;00m\n\u001b[0;32m   1166\u001b[0m \u001b[39m# it will be non-None here and in a \"closed\" state.\u001b[39;00m\n\u001b[0;32m   1167\u001b[0m \u001b[39mself\u001b[39m\u001b[39m.\u001b[39m_dbapi_connection \u001b[39m=\u001b[39m \u001b[39mNone\u001b[39;00m\n",
      "File \u001b[1;32mc:\\Users\\Andrea\\anaconda3\\lib\\site-packages\\sqlalchemy\\pool\\base.py:1116\u001b[0m, in \u001b[0;36m_ConnectionFairy.close\u001b[1;34m(self)\u001b[0m\n\u001b[0;32m   1114\u001b[0m \u001b[39mself\u001b[39m\u001b[39m.\u001b[39m_counter \u001b[39m-\u001b[39m\u001b[39m=\u001b[39m \u001b[39m1\u001b[39m\n\u001b[0;32m   1115\u001b[0m \u001b[39mif\u001b[39;00m \u001b[39mself\u001b[39m\u001b[39m.\u001b[39m_counter \u001b[39m==\u001b[39m \u001b[39m0\u001b[39m:\n\u001b[1;32m-> 1116\u001b[0m     \u001b[39mself\u001b[39;49m\u001b[39m.\u001b[39;49m_checkin()\n",
      "File \u001b[1;32mc:\\Users\\Andrea\\anaconda3\\lib\\site-packages\\sqlalchemy\\pool\\base.py:966\u001b[0m, in \u001b[0;36m_ConnectionFairy._checkin\u001b[1;34m(self, reset)\u001b[0m\n\u001b[0;32m    965\u001b[0m \u001b[39mdef\u001b[39;00m \u001b[39m_checkin\u001b[39m(\u001b[39mself\u001b[39m, reset\u001b[39m=\u001b[39m\u001b[39mTrue\u001b[39;00m):\n\u001b[1;32m--> 966\u001b[0m     _finalize_fairy(\n\u001b[0;32m    967\u001b[0m         \u001b[39mself\u001b[39;49m\u001b[39m.\u001b[39;49mdbapi_connection,\n\u001b[0;32m    968\u001b[0m         \u001b[39mself\u001b[39;49m\u001b[39m.\u001b[39;49m_connection_record,\n\u001b[0;32m    969\u001b[0m         \u001b[39mself\u001b[39;49m\u001b[39m.\u001b[39;49m_pool,\n\u001b[0;32m    970\u001b[0m         \u001b[39mNone\u001b[39;49;00m,\n\u001b[0;32m    971\u001b[0m         \u001b[39mself\u001b[39;49m\u001b[39m.\u001b[39;49m_echo,\n\u001b[0;32m    972\u001b[0m         reset\u001b[39m=\u001b[39;49mreset,\n\u001b[0;32m    973\u001b[0m         fairy\u001b[39m=\u001b[39;49m\u001b[39mself\u001b[39;49m,\n\u001b[0;32m    974\u001b[0m     )\n\u001b[0;32m    975\u001b[0m     \u001b[39mself\u001b[39m\u001b[39m.\u001b[39mdbapi_connection \u001b[39m=\u001b[39m \u001b[39mNone\u001b[39;00m\n\u001b[0;32m    976\u001b[0m     \u001b[39mself\u001b[39m\u001b[39m.\u001b[39m_connection_record \u001b[39m=\u001b[39m \u001b[39mNone\u001b[39;00m\n",
      "File \u001b[1;32mc:\\Users\\Andrea\\anaconda3\\lib\\site-packages\\sqlalchemy\\pool\\base.py:739\u001b[0m, in \u001b[0;36m_finalize_fairy\u001b[1;34m(dbapi_connection, connection_record, pool, ref, echo, reset, fairy)\u001b[0m\n\u001b[0;32m    737\u001b[0m \u001b[39massert\u001b[39;00m fairy\u001b[39m.\u001b[39mdbapi_connection \u001b[39mis\u001b[39;00m dbapi_connection\n\u001b[0;32m    738\u001b[0m \u001b[39mif\u001b[39;00m reset \u001b[39mand\u001b[39;00m can_manipulate_connection:\n\u001b[1;32m--> 739\u001b[0m     fairy\u001b[39m.\u001b[39;49m_reset(pool)\n\u001b[0;32m    741\u001b[0m \u001b[39mif\u001b[39;00m detach:\n\u001b[0;32m    742\u001b[0m     \u001b[39mif\u001b[39;00m connection_record:\n",
      "File \u001b[1;32mc:\\Users\\Andrea\\anaconda3\\lib\\site-packages\\sqlalchemy\\pool\\base.py:988\u001b[0m, in \u001b[0;36m_ConnectionFairy._reset\u001b[1;34m(self, pool)\u001b[0m\n\u001b[0;32m    984\u001b[0m     \u001b[39mif\u001b[39;00m \u001b[39mself\u001b[39m\u001b[39m.\u001b[39m_echo:\n\u001b[0;32m    985\u001b[0m         pool\u001b[39m.\u001b[39mlogger\u001b[39m.\u001b[39mdebug(\n\u001b[0;32m    986\u001b[0m             \u001b[39m\"\u001b[39m\u001b[39mConnection \u001b[39m\u001b[39m%s\u001b[39;00m\u001b[39m rollback-on-return\u001b[39m\u001b[39m\"\u001b[39m, \u001b[39mself\u001b[39m\u001b[39m.\u001b[39mdbapi_connection\n\u001b[0;32m    987\u001b[0m         )\n\u001b[1;32m--> 988\u001b[0m     pool\u001b[39m.\u001b[39;49m_dialect\u001b[39m.\u001b[39;49mdo_rollback(\u001b[39mself\u001b[39;49m)\n\u001b[0;32m    989\u001b[0m \u001b[39melif\u001b[39;00m pool\u001b[39m.\u001b[39m_reset_on_return \u001b[39mis\u001b[39;00m reset_commit:\n\u001b[0;32m    990\u001b[0m     \u001b[39mif\u001b[39;00m \u001b[39mself\u001b[39m\u001b[39m.\u001b[39m_echo:\n",
      "File \u001b[1;32mc:\\Users\\Andrea\\anaconda3\\lib\\site-packages\\sqlalchemy\\engine\\default.py:682\u001b[0m, in \u001b[0;36mDefaultDialect.do_rollback\u001b[1;34m(self, dbapi_connection)\u001b[0m\n\u001b[0;32m    681\u001b[0m \u001b[39mdef\u001b[39;00m \u001b[39mdo_rollback\u001b[39m(\u001b[39mself\u001b[39m, dbapi_connection):\n\u001b[1;32m--> 682\u001b[0m     dbapi_connection\u001b[39m.\u001b[39;49mrollback()\n",
      "\u001b[1;31mKeyboardInterrupt\u001b[0m: "
     ]
    }
   ],
   "source": [
    "sql_query = 'SELECT * FROM dimenvio;'\n",
    "dimenvio = pd.read_sql(sql_query, postgres_driver)\n",
    "dimenvio.head(1)"
   ]
  },
  {
   "cell_type": "code",
   "execution_count": null,
   "metadata": {},
   "outputs": [
    {
     "data": {
      "text/html": [
       "<div>\n",
       "<style scoped>\n",
       "    .dataframe tbody tr th:only-of-type {\n",
       "        vertical-align: middle;\n",
       "    }\n",
       "\n",
       "    .dataframe tbody tr th {\n",
       "        vertical-align: top;\n",
       "    }\n",
       "\n",
       "    .dataframe thead th {\n",
       "        text-align: right;\n",
       "    }\n",
       "</style>\n",
       "<table border=\"1\" class=\"dataframe\">\n",
       "  <thead>\n",
       "    <tr style=\"text-align: right;\">\n",
       "      <th></th>\n",
       "      <th>index</th>\n",
       "      <th>Id. del producto</th>\n",
       "      <th>Categoría</th>\n",
       "      <th>Subcategoría</th>\n",
       "      <th>Nombre del producto</th>\n",
       "    </tr>\n",
       "  </thead>\n",
       "  <tbody>\n",
       "    <tr>\n",
       "      <th>0</th>\n",
       "      <td>0</td>\n",
       "      <td>MAT-AR-10004857</td>\n",
       "      <td>Material de oficina</td>\n",
       "      <td>Arte</td>\n",
       "      <td>Boston Rotuladores, Tamaños variados</td>\n",
       "    </tr>\n",
       "  </tbody>\n",
       "</table>\n",
       "</div>"
      ],
      "text/plain": [
       "   index Id. del producto            Categoría Subcategoría  \\\n",
       "0      0  MAT-AR-10004857  Material de oficina         Arte   \n",
       "\n",
       "                    Nombre del producto  \n",
       "0  Boston Rotuladores, Tamaños variados  "
      ]
     },
     "execution_count": 44,
     "metadata": {},
     "output_type": "execute_result"
    }
   ],
   "source": [
    "sql_query = 'SELECT * FROM dimproducto;'\n",
    "dimproducto = pd.read_sql(sql_query, postgres_driver)\n",
    "dimproducto.head(1)"
   ]
  },
  {
   "cell_type": "code",
   "execution_count": null,
   "metadata": {},
   "outputs": [
    {
     "name": "stdout",
     "output_type": "stream",
     "text": [
      "Total de ventas: 21568048.6404\n",
      "Total de descuentos: 1391.556\n",
      "Total de ganancia: 2201915.6404\n"
     ]
    }
   ],
   "source": [
    "Ventas_total = fact_table['Ventas'].sum()\n",
    "print(\"Total de ventas:\", Ventas_total)\n",
    "\n",
    "Descuento_Total = fact_table['Descuento'].sum() \n",
    "print(\"Total de descuentos:\", Descuento_Total)\n",
    "\n",
    "Ganancia_Total= fact_table['Ganancia'].sum()\n",
    "print(\"Total de ganancia:\", Ganancia_Total)"
   ]
  },
  {
   "attachments": {},
   "cell_type": "markdown",
   "metadata": {},
   "source": [
    "Ventas por clientes"
   ]
  },
  {
   "cell_type": "code",
   "execution_count": null,
   "metadata": {},
   "outputs": [
    {
     "data": {
      "text/html": [
       "<div>\n",
       "<style scoped>\n",
       "    .dataframe tbody tr th:only-of-type {\n",
       "        vertical-align: middle;\n",
       "    }\n",
       "\n",
       "    .dataframe tbody tr th {\n",
       "        vertical-align: top;\n",
       "    }\n",
       "\n",
       "    .dataframe thead th {\n",
       "        text-align: right;\n",
       "    }\n",
       "</style>\n",
       "<table border=\"1\" class=\"dataframe\">\n",
       "  <thead>\n",
       "    <tr style=\"text-align: right;\">\n",
       "      <th></th>\n",
       "      <th>Id. del cliente</th>\n",
       "      <th>Ventas</th>\n",
       "      <th>index</th>\n",
       "      <th>Nombre del cliente</th>\n",
       "      <th>Segmento</th>\n",
       "      <th>Ciudad</th>\n",
       "      <th>Estado</th>\n",
       "      <th>País/Región</th>\n",
       "      <th>Región</th>\n",
       "      <th>id gerente</th>\n",
       "      <th>Gerente regional</th>\n",
       "    </tr>\n",
       "  </thead>\n",
       "  <tbody>\n",
       "    <tr>\n",
       "      <th>0</th>\n",
       "      <td>AA-10150</td>\n",
       "      <td>25232.0960</td>\n",
       "      <td>2929</td>\n",
       "      <td>Alonso Arévalo</td>\n",
       "      <td>Cliente</td>\n",
       "      <td>Maracaibo</td>\n",
       "      <td>Zulia</td>\n",
       "      <td>Venezuela</td>\n",
       "      <td>Sur</td>\n",
       "      <td>1004</td>\n",
       "      <td>Gabriela Bustamante</td>\n",
       "    </tr>\n",
       "    <tr>\n",
       "      <th>1</th>\n",
       "      <td>AA-10165</td>\n",
       "      <td>6664.2000</td>\n",
       "      <td>3123</td>\n",
       "      <td>Adán Atencio</td>\n",
       "      <td>Cliente</td>\n",
       "      <td>Cienfuegos</td>\n",
       "      <td>Cienfuegos</td>\n",
       "      <td>Cuba</td>\n",
       "      <td>Caribe</td>\n",
       "      <td>1001</td>\n",
       "      <td>Eva Lara</td>\n",
       "    </tr>\n",
       "    <tr>\n",
       "      <th>2</th>\n",
       "      <td>AA-10225</td>\n",
       "      <td>10329.4000</td>\n",
       "      <td>629</td>\n",
       "      <td>Alejandra Alcaraz</td>\n",
       "      <td>Empresa</td>\n",
       "      <td>Presidencia Roque Sáenz Peña</td>\n",
       "      <td>Chaco</td>\n",
       "      <td>Argentina</td>\n",
       "      <td>Sur</td>\n",
       "      <td>1004</td>\n",
       "      <td>Gabriela Bustamante</td>\n",
       "    </tr>\n",
       "    <tr>\n",
       "      <th>3</th>\n",
       "      <td>AA-10390</td>\n",
       "      <td>19210.2256</td>\n",
       "      <td>1262</td>\n",
       "      <td>Arturo Anguiano</td>\n",
       "      <td>Cliente</td>\n",
       "      <td>Grajaú</td>\n",
       "      <td>Maranhão</td>\n",
       "      <td>Brasil</td>\n",
       "      <td>Sur</td>\n",
       "      <td>1004</td>\n",
       "      <td>Gabriela Bustamante</td>\n",
       "    </tr>\n",
       "    <tr>\n",
       "      <th>4</th>\n",
       "      <td>AA-10555</td>\n",
       "      <td>11255.0844</td>\n",
       "      <td>5498</td>\n",
       "      <td>Alina Armijo</td>\n",
       "      <td>Empresa</td>\n",
       "      <td>Mixco</td>\n",
       "      <td>Guatemala</td>\n",
       "      <td>Guatemala</td>\n",
       "      <td>Centro</td>\n",
       "      <td>1002</td>\n",
       "      <td>Silvia Pérez</td>\n",
       "    </tr>\n",
       "    <tr>\n",
       "      <th>...</th>\n",
       "      <td>...</td>\n",
       "      <td>...</td>\n",
       "      <td>...</td>\n",
       "      <td>...</td>\n",
       "      <td>...</td>\n",
       "      <td>...</td>\n",
       "      <td>...</td>\n",
       "      <td>...</td>\n",
       "      <td>...</td>\n",
       "      <td>...</td>\n",
       "      <td>...</td>\n",
       "    </tr>\n",
       "    <tr>\n",
       "      <th>789</th>\n",
       "      <td>ÉC-14365</td>\n",
       "      <td>133274.8752</td>\n",
       "      <td>6049</td>\n",
       "      <td>Érica Casas</td>\n",
       "      <td>Empresa</td>\n",
       "      <td>Managua</td>\n",
       "      <td>Managua</td>\n",
       "      <td>Nicaragua</td>\n",
       "      <td>Centro</td>\n",
       "      <td>1002</td>\n",
       "      <td>Silvia Pérez</td>\n",
       "    </tr>\n",
       "    <tr>\n",
       "      <th>790</th>\n",
       "      <td>ÍL-16330</td>\n",
       "      <td>5634.0040</td>\n",
       "      <td>3786</td>\n",
       "      <td>Íñigo Leal</td>\n",
       "      <td>Empresa</td>\n",
       "      <td>Bridgetown</td>\n",
       "      <td>San Miguel</td>\n",
       "      <td>Barbados</td>\n",
       "      <td>Caribe</td>\n",
       "      <td>1001</td>\n",
       "      <td>Eva Lara</td>\n",
       "    </tr>\n",
       "    <tr>\n",
       "      <th>791</th>\n",
       "      <td>ÓA-19735</td>\n",
       "      <td>16226.0000</td>\n",
       "      <td>2915</td>\n",
       "      <td>Óscar Alba</td>\n",
       "      <td>Cliente</td>\n",
       "      <td>Valparaíso</td>\n",
       "      <td>Valparaíso</td>\n",
       "      <td>Chile</td>\n",
       "      <td>Sur</td>\n",
       "      <td>1004</td>\n",
       "      <td>Gabriela Bustamante</td>\n",
       "    </tr>\n",
       "    <tr>\n",
       "      <th>792</th>\n",
       "      <td>ÓA-19750</td>\n",
       "      <td>15614.5716</td>\n",
       "      <td>915</td>\n",
       "      <td>Óscar Armendáriz</td>\n",
       "      <td>Cliente</td>\n",
       "      <td>Caracas</td>\n",
       "      <td>Distrito Capital</td>\n",
       "      <td>Venezuela</td>\n",
       "      <td>Sur</td>\n",
       "      <td>1004</td>\n",
       "      <td>Gabriela Bustamante</td>\n",
       "    </tr>\n",
       "    <tr>\n",
       "      <th>793</th>\n",
       "      <td>ÚS-21430</td>\n",
       "      <td>18137.9200</td>\n",
       "      <td>888</td>\n",
       "      <td>Úrsula Soto</td>\n",
       "      <td>Empresa</td>\n",
       "      <td>Facatativá</td>\n",
       "      <td>Cundinamarca</td>\n",
       "      <td>Colombia</td>\n",
       "      <td>Sur</td>\n",
       "      <td>1004</td>\n",
       "      <td>Gabriela Bustamante</td>\n",
       "    </tr>\n",
       "  </tbody>\n",
       "</table>\n",
       "<p>794 rows × 11 columns</p>\n",
       "</div>"
      ],
      "text/plain": [
       "    Id. del cliente       Ventas  index Nombre del cliente Segmento  \\\n",
       "0          AA-10150   25232.0960   2929     Alonso Arévalo  Cliente   \n",
       "1          AA-10165    6664.2000   3123       Adán Atencio  Cliente   \n",
       "2          AA-10225   10329.4000    629  Alejandra Alcaraz  Empresa   \n",
       "3          AA-10390   19210.2256   1262    Arturo Anguiano  Cliente   \n",
       "4          AA-10555   11255.0844   5498       Alina Armijo  Empresa   \n",
       "..              ...          ...    ...                ...      ...   \n",
       "789        ÉC-14365  133274.8752   6049        Érica Casas  Empresa   \n",
       "790        ÍL-16330    5634.0040   3786         Íñigo Leal  Empresa   \n",
       "791        ÓA-19735   16226.0000   2915         Óscar Alba  Cliente   \n",
       "792        ÓA-19750   15614.5716    915   Óscar Armendáriz  Cliente   \n",
       "793        ÚS-21430   18137.9200    888        Úrsula Soto  Empresa   \n",
       "\n",
       "                           Ciudad            Estado País/Región  Región  \\\n",
       "0                       Maracaibo             Zulia   Venezuela     Sur   \n",
       "1                      Cienfuegos        Cienfuegos        Cuba  Caribe   \n",
       "2    Presidencia Roque Sáenz Peña             Chaco   Argentina     Sur   \n",
       "3                          Grajaú          Maranhão      Brasil     Sur   \n",
       "4                           Mixco         Guatemala   Guatemala  Centro   \n",
       "..                            ...               ...         ...     ...   \n",
       "789                       Managua           Managua   Nicaragua  Centro   \n",
       "790                    Bridgetown        San Miguel    Barbados  Caribe   \n",
       "791                    Valparaíso        Valparaíso       Chile     Sur   \n",
       "792                       Caracas  Distrito Capital   Venezuela     Sur   \n",
       "793                    Facatativá      Cundinamarca    Colombia     Sur   \n",
       "\n",
       "     id gerente     Gerente regional  \n",
       "0          1004  Gabriela Bustamante  \n",
       "1          1001             Eva Lara  \n",
       "2          1004  Gabriela Bustamante  \n",
       "3          1004  Gabriela Bustamante  \n",
       "4          1002         Silvia Pérez  \n",
       "..          ...                  ...  \n",
       "789        1002         Silvia Pérez  \n",
       "790        1001             Eva Lara  \n",
       "791        1004  Gabriela Bustamante  \n",
       "792        1004  Gabriela Bustamante  \n",
       "793        1004  Gabriela Bustamante  \n",
       "\n",
       "[794 rows x 11 columns]"
      ]
     },
     "execution_count": 61,
     "metadata": {},
     "output_type": "execute_result"
    }
   ],
   "source": [
    "Vtas_clientes=fact_table.groupby(['Id. del cliente'])['Ventas'].sum()\n",
    "Vtascliente=pd.DataFrame(Vtas_clientes)\n",
    "Vtascliente10= Vtascliente.merge(dimclientes,how='inner',on='Id. del cliente')\n",
    "Vtascliente10"
   ]
  },
  {
   "attachments": {},
   "cell_type": "markdown",
   "metadata": {},
   "source": [
    "Ventas por segmento"
   ]
  },
  {
   "cell_type": "code",
   "execution_count": null,
   "metadata": {},
   "outputs": [
    {
     "data": {
      "text/plain": [
       "<AxesSubplot:title={'center':'Ventas por Segmento'}, xlabel='Segmento'>"
      ]
     },
     "execution_count": 64,
     "metadata": {},
     "output_type": "execute_result"
    },
    {
     "data": {
      "image/png": "[encoded data removed]",
      "text/plain": [
       "<Figure size 432x288 with 1 Axes>"
      ]
     },
     "metadata": {
      "needs_background": "light"
     },
     "output_type": "display_data"
    }
   ],
   "source": [
    "Vtas_Sector=Vtascliente10.groupby(['Segmento'])['Ventas'].sum().plot(kind='bar',\n",
    "                                                       title='Ventas por Segmento',                                                       \n",
    "                                                       color = 'orange',\n",
    "                                                       edgecolor ='black')\n",
    "Vtas_Sector"
   ]
  },
  {
   "attachments": {},
   "cell_type": "markdown",
   "metadata": {},
   "source": [
    "Ventas por Región"
   ]
  },
  {
   "cell_type": "code",
   "execution_count": null,
   "metadata": {},
   "outputs": [],
   "source": [
    "Ganan_clientes=fact_table.groupby(['Id. del cliente'])['Ganancia'].sum()\n",
    "Ganan_clientes1=pd.DataFrame(Ganan_clientes)\n",
    "Ganan_clientes10= Ganan_clientes1.merge(dimclientes,how='inner',on='Id. del cliente')"
   ]
  },
  {
   "cell_type": "code",
   "execution_count": null,
   "metadata": {},
   "outputs": [
    {
     "data": {
      "text/plain": [
       "<AxesSubplot:title={'center':'Ventas por Segmento'}, xlabel='Región'>"
      ]
     },
     "execution_count": 80,
     "metadata": {},
     "output_type": "execute_result"
    },
    {
     "data": {
      "image/png": "[encoded data removed]",
      "text/plain": [
       "<Figure size 432x288 with 1 Axes>"
      ]
     },
     "metadata": {
      "needs_background": "light"
     },
     "output_type": "display_data"
    }
   ],
   "source": [
    "Vtas_Region=Vtascliente10.groupby(['Región'])['Ventas'].sum().plot(kind='bar',\n",
    "                                                       title='Ventas por Segmento',                                                       \n",
    "                                                       color = 'orange',\n",
    "                                                       edgecolor ='black')\n",
    "Vtas_Region"
   ]
  },
  {
   "cell_type": "code",
   "execution_count": null,
   "metadata": {},
   "outputs": [
    {
     "data": {
      "text/plain": [
       "<AxesSubplot:title={'center':'Ventas por Segmento'}, xlabel='Región'>"
      ]
     },
     "execution_count": 81,
     "metadata": {},
     "output_type": "execute_result"
    },
    {
     "data": {
      "image/png": "[encoded data removed]",
      "text/plain": [
       "<Figure size 432x288 with 1 Axes>"
      ]
     },
     "metadata": {
      "needs_background": "light"
     },
     "output_type": "display_data"
    }
   ],
   "source": [
    "Ganancia_Region=Ganan_clientes10.groupby(['Región'])['Ganancia'].sum().plot(kind='bar',\n",
    "                                                       title='Ventas por Segmento',                                                       \n",
    "                                                       color = 'orange',\n",
    "                                                       edgecolor ='black')\n",
    "Ganancia_Region"
   ]
  },
  {
   "attachments": {},
   "cell_type": "markdown",
   "metadata": {},
   "source": [
    "Ganacia por producto"
   ]
  },
  {
   "cell_type": "code",
   "execution_count": null,
   "metadata": {},
   "outputs": [
    {
     "data": {
      "text/html": [
       "<div>\n",
       "<style scoped>\n",
       "    .dataframe tbody tr th:only-of-type {\n",
       "        vertical-align: middle;\n",
       "    }\n",
       "\n",
       "    .dataframe tbody tr th {\n",
       "        vertical-align: top;\n",
       "    }\n",
       "\n",
       "    .dataframe thead th {\n",
       "        text-align: right;\n",
       "    }\n",
       "</style>\n",
       "<table border=\"1\" class=\"dataframe\">\n",
       "  <thead>\n",
       "    <tr style=\"text-align: right;\">\n",
       "      <th></th>\n",
       "      <th>Ventas</th>\n",
       "    </tr>\n",
       "    <tr>\n",
       "      <th>Id. del producto</th>\n",
       "      <th></th>\n",
       "    </tr>\n",
       "  </thead>\n",
       "  <tbody>\n",
       "    <tr>\n",
       "      <th>MAT-AL-10000097</th>\n",
       "      <td>1728.00</td>\n",
       "    </tr>\n",
       "    <tr>\n",
       "      <th>MAT-AL-10000128</th>\n",
       "      <td>1515.48</td>\n",
       "    </tr>\n",
       "    <tr>\n",
       "      <th>MAT-AL-10000280</th>\n",
       "      <td>735.84</td>\n",
       "    </tr>\n",
       "    <tr>\n",
       "      <th>MAT-AL-10000301</th>\n",
       "      <td>2362.80</td>\n",
       "    </tr>\n",
       "    <tr>\n",
       "      <th>MAT-AL-10000417</th>\n",
       "      <td>2643.00</td>\n",
       "    </tr>\n",
       "    <tr>\n",
       "      <th>...</th>\n",
       "      <td>...</td>\n",
       "    </tr>\n",
       "    <tr>\n",
       "      <th>TEC-TE-10004755</th>\n",
       "      <td>24515.68</td>\n",
       "    </tr>\n",
       "    <tr>\n",
       "      <th>TEC-TE-10004798</th>\n",
       "      <td>48047.04</td>\n",
       "    </tr>\n",
       "    <tr>\n",
       "      <th>TEC-TE-10004863</th>\n",
       "      <td>6543.08</td>\n",
       "    </tr>\n",
       "    <tr>\n",
       "      <th>TEC-TE-10004900</th>\n",
       "      <td>13668.00</td>\n",
       "    </tr>\n",
       "    <tr>\n",
       "      <th>TEC-TE-10004904</th>\n",
       "      <td>4043.76</td>\n",
       "    </tr>\n",
       "  </tbody>\n",
       "</table>\n",
       "<p>2186 rows × 1 columns</p>\n",
       "</div>"
      ],
      "text/plain": [
       "                    Ventas\n",
       "Id. del producto          \n",
       "MAT-AL-10000097    1728.00\n",
       "MAT-AL-10000128    1515.48\n",
       "MAT-AL-10000280     735.84\n",
       "MAT-AL-10000301    2362.80\n",
       "MAT-AL-10000417    2643.00\n",
       "...                    ...\n",
       "TEC-TE-10004755   24515.68\n",
       "TEC-TE-10004798   48047.04\n",
       "TEC-TE-10004863    6543.08\n",
       "TEC-TE-10004900   13668.00\n",
       "TEC-TE-10004904    4043.76\n",
       "\n",
       "[2186 rows x 1 columns]"
      ]
     },
     "execution_count": 86,
     "metadata": {},
     "output_type": "execute_result"
    }
   ],
   "source": [
    "VtasProd=fact_table.groupby(['Id. del producto'])['Ventas'].sum()\n",
    "\n",
    "vtasProd=pd.DataFrame(VtasProd)\n",
    "vtasProd"
   ]
  },
  {
   "cell_type": "code",
   "execution_count": null,
   "metadata": {},
   "outputs": [
    {
     "data": {
      "text/html": [
       "<div>\n",
       "<style scoped>\n",
       "    .dataframe tbody tr th:only-of-type {\n",
       "        vertical-align: middle;\n",
       "    }\n",
       "\n",
       "    .dataframe tbody tr th {\n",
       "        vertical-align: top;\n",
       "    }\n",
       "\n",
       "    .dataframe thead th {\n",
       "        text-align: right;\n",
       "    }\n",
       "</style>\n",
       "<table border=\"1\" class=\"dataframe\">\n",
       "  <thead>\n",
       "    <tr style=\"text-align: right;\">\n",
       "      <th></th>\n",
       "      <th>Id. del producto</th>\n",
       "      <th>Ventas</th>\n",
       "      <th>index</th>\n",
       "      <th>Categoría</th>\n",
       "      <th>Subcategoría</th>\n",
       "      <th>Nombre del producto</th>\n",
       "    </tr>\n",
       "  </thead>\n",
       "  <tbody>\n",
       "    <tr>\n",
       "      <th>0</th>\n",
       "      <td>MAT-AL-10000097</td>\n",
       "      <td>1728.00</td>\n",
       "      <td>4476</td>\n",
       "      <td>Material de oficina</td>\n",
       "      <td>Almacenamiento</td>\n",
       "      <td>Smead Caja, Tamaño completo</td>\n",
       "    </tr>\n",
       "    <tr>\n",
       "      <th>1</th>\n",
       "      <td>MAT-AL-10000128</td>\n",
       "      <td>1515.48</td>\n",
       "      <td>446</td>\n",
       "      <td>Material de oficina</td>\n",
       "      <td>Almacenamiento</td>\n",
       "      <td>Tenex Caja, Metal</td>\n",
       "    </tr>\n",
       "    <tr>\n",
       "      <th>2</th>\n",
       "      <td>MAT-AL-10000280</td>\n",
       "      <td>735.84</td>\n",
       "      <td>433</td>\n",
       "      <td>Material de oficina</td>\n",
       "      <td>Almacenamiento</td>\n",
       "      <td>Fellowes Caja, Tamaño completo</td>\n",
       "    </tr>\n",
       "    <tr>\n",
       "      <th>3</th>\n",
       "      <td>MAT-AL-10000301</td>\n",
       "      <td>2362.80</td>\n",
       "      <td>786</td>\n",
       "      <td>Material de oficina</td>\n",
       "      <td>Almacenamiento</td>\n",
       "      <td>Eldon Caja, Industrial</td>\n",
       "    </tr>\n",
       "    <tr>\n",
       "      <th>4</th>\n",
       "      <td>MAT-AL-10000417</td>\n",
       "      <td>2643.00</td>\n",
       "      <td>5034</td>\n",
       "      <td>Material de oficina</td>\n",
       "      <td>Almacenamiento</td>\n",
       "      <td>Fellowes Carpetas, Tamaño completo</td>\n",
       "    </tr>\n",
       "    <tr>\n",
       "      <th>...</th>\n",
       "      <td>...</td>\n",
       "      <td>...</td>\n",
       "      <td>...</td>\n",
       "      <td>...</td>\n",
       "      <td>...</td>\n",
       "      <td>...</td>\n",
       "    </tr>\n",
       "    <tr>\n",
       "      <th>2181</th>\n",
       "      <td>TEC-TE-10004755</td>\n",
       "      <td>24515.68</td>\n",
       "      <td>2190</td>\n",
       "      <td>Tecnología</td>\n",
       "      <td>Teléfonos</td>\n",
       "      <td>Motorola Base de audio, Al por mayor</td>\n",
       "    </tr>\n",
       "    <tr>\n",
       "      <th>2182</th>\n",
       "      <td>TEC-TE-10004798</td>\n",
       "      <td>48047.04</td>\n",
       "      <td>517</td>\n",
       "      <td>Tecnología</td>\n",
       "      <td>Teléfonos</td>\n",
       "      <td>Nokia Base de audio, Al por mayor</td>\n",
       "    </tr>\n",
       "    <tr>\n",
       "      <th>2183</th>\n",
       "      <td>TEC-TE-10004863</td>\n",
       "      <td>6543.08</td>\n",
       "      <td>1230</td>\n",
       "      <td>Tecnología</td>\n",
       "      <td>Teléfonos</td>\n",
       "      <td>Motorola Teléfono inteligente, Tamaños variados</td>\n",
       "    </tr>\n",
       "    <tr>\n",
       "      <th>2184</th>\n",
       "      <td>TEC-TE-10004900</td>\n",
       "      <td>13668.00</td>\n",
       "      <td>895</td>\n",
       "      <td>Tecnología</td>\n",
       "      <td>Teléfonos</td>\n",
       "      <td>Samsung Amplificador de señal, Al por mayor</td>\n",
       "    </tr>\n",
       "    <tr>\n",
       "      <th>2185</th>\n",
       "      <td>TEC-TE-10004904</td>\n",
       "      <td>4043.76</td>\n",
       "      <td>1721</td>\n",
       "      <td>Tecnología</td>\n",
       "      <td>Teléfonos</td>\n",
       "      <td>Motorola Amplificador de señal, Tamaño completo</td>\n",
       "    </tr>\n",
       "  </tbody>\n",
       "</table>\n",
       "<p>2186 rows × 6 columns</p>\n",
       "</div>"
      ],
      "text/plain": [
       "     Id. del producto    Ventas  index            Categoría    Subcategoría  \\\n",
       "0     MAT-AL-10000097   1728.00   4476  Material de oficina  Almacenamiento   \n",
       "1     MAT-AL-10000128   1515.48    446  Material de oficina  Almacenamiento   \n",
       "2     MAT-AL-10000280    735.84    433  Material de oficina  Almacenamiento   \n",
       "3     MAT-AL-10000301   2362.80    786  Material de oficina  Almacenamiento   \n",
       "4     MAT-AL-10000417   2643.00   5034  Material de oficina  Almacenamiento   \n",
       "...               ...       ...    ...                  ...             ...   \n",
       "2181  TEC-TE-10004755  24515.68   2190           Tecnología       Teléfonos   \n",
       "2182  TEC-TE-10004798  48047.04    517           Tecnología       Teléfonos   \n",
       "2183  TEC-TE-10004863   6543.08   1230           Tecnología       Teléfonos   \n",
       "2184  TEC-TE-10004900  13668.00    895           Tecnología       Teléfonos   \n",
       "2185  TEC-TE-10004904   4043.76   1721           Tecnología       Teléfonos   \n",
       "\n",
       "                                  Nombre del producto  \n",
       "0                         Smead Caja, Tamaño completo  \n",
       "1                                   Tenex Caja, Metal  \n",
       "2                      Fellowes Caja, Tamaño completo  \n",
       "3                              Eldon Caja, Industrial  \n",
       "4                  Fellowes Carpetas, Tamaño completo  \n",
       "...                                               ...  \n",
       "2181             Motorola Base de audio, Al por mayor  \n",
       "2182                Nokia Base de audio, Al por mayor  \n",
       "2183  Motorola Teléfono inteligente, Tamaños variados  \n",
       "2184      Samsung Amplificador de señal, Al por mayor  \n",
       "2185  Motorola Amplificador de señal, Tamaño completo  \n",
       "\n",
       "[2186 rows x 6 columns]"
      ]
     },
     "execution_count": 89,
     "metadata": {},
     "output_type": "execute_result"
    }
   ],
   "source": [
    "Vtas_prod=vtasProd.merge(dimproducto,how='inner',on='Id. del producto')\n",
    "Vtas_prod"
   ]
  },
  {
   "cell_type": "code",
   "execution_count": 99,
   "metadata": {},
   "outputs": [
    {
     "data": {
      "text/plain": [
       "Nombre del producto\n",
       "Acco Anillas, Duradero           1294.72\n",
       "Acco Anillas, Económico          1065.60\n",
       "Acco Anillas, Reciclado           982.80\n",
       "Acco Anillas, Transparente        979.20\n",
       "Acco Carpeta, Duradero           4750.80\n",
       "                                  ...   \n",
       "Xerox Recordadores, Reciclado    1774.08\n",
       "Xerox Resma, Multicolor          3441.00\n",
       "Xerox Resma, Paquete de 12       6705.60\n",
       "Xerox Resma, Premium             3195.92\n",
       "Xerox Resma, Reciclado            630.00\n",
       "Name: Ventas, Length: 1882, dtype: float64"
      ]
     },
     "execution_count": 99,
     "metadata": {},
     "output_type": "execute_result"
    }
   ],
   "source": [
    "Vtas_Productos=Vtas_prod.groupby(['Nombre del producto'])['Ventas'].sum()\n",
    "Vtas_Productos"
   ]
  },
  {
   "attachments": {},
   "cell_type": "markdown",
   "metadata": {},
   "source": [
    "Venta por categoria"
   ]
  },
  {
   "cell_type": "code",
   "execution_count": 102,
   "metadata": {},
   "outputs": [
    {
     "data": {
      "text/plain": [
       "<AxesSubplot:title={'center':'Ventas por Segmento'}, xlabel='Categoría'>"
      ]
     },
     "execution_count": 102,
     "metadata": {},
     "output_type": "execute_result"
    },
    {
     "data": {
      "image/png": "[encoded data removed]",
      "text/plain": [
       "<Figure size 432x288 with 1 Axes>"
      ]
     },
     "metadata": {
      "needs_background": "light"
     },
     "output_type": "display_data"
    }
   ],
   "source": [
    "Vtas_categoria=Vtas_prod.groupby(['Categoría'])['Ventas'].sum().plot(kind='bar',\n",
    "                                                       title='Ventas por Segmento',                                                       \n",
    "                                                       color = 'orange',\n",
    "                                                       edgecolor ='black')\n",
    "Vtas_categoria"
   ]
  }
 ],
 "metadata": {
  "kernelspec": {
   "display_name": "Python 3 (ipykernel)",
   "language": "python",
   "name": "python3"
  },
  "language_info": {
   "codemirror_mode": {
    "name": "ipython",
    "version": 3
   },
   "file_extension": ".py",
   "mimetype": "text/x-python",
   "name": "python",
   "nbconvert_exporter": "python",
   "pygments_lexer": "ipython3",
   "version": "3.9.12"
  }
 },
 "nbformat": 4,
 "nbformat_minor": 4
}
