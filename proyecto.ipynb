{
 "cells": [
  {
   "cell_type": "code",
   "execution_count": 112,
   "id": "85366ccc-54bd-456d-80b5-881ace947eb2",
   "metadata": {},
   "outputs": [],
   "source": [
    "import pandas as pd\n",
    "import numpy as np\n",
    "from faker import Faker\n",
    "import random\n",
    "import datetime\n",
    "import boto3\n",
    "import psycopg2\n",
    "import configparser\n",
    "from sqlalchemy import create_engine\n",
    "import pyodbc"
   ]
  },
  {
   "cell_type": "code",
   "execution_count": 113,
   "id": "5baa46f7-c9c7-4548-b45d-87a0aeca5c3a",
   "metadata": {},
   "outputs": [
    {
     "data": {
      "text/plain": [
       "['escproy.cfg']"
      ]
     },
     "execution_count": 113,
     "metadata": {},
     "output_type": "execute_result"
    }
   ],
   "source": [
    "config = configparser.ConfigParser()\n",
    "config.read('escproy.cfg')"
   ]
  },
  {
   "cell_type": "code",
   "execution_count": 119,
   "id": "2a1628d4-1dc7-49a9-8b95-e25480b357ac",
   "metadata": {},
   "outputs": [],
   "source": [
    "s3 = boto3.resource(\n",
    "    service_name = 's3',\n",
    "    region_name = 'us-east-1',\n",
    "    aws_access_key_id = config.get('IAM', 'ACCESS_KEY'),\n",
    "    aws_secret_access_key = config.get('IAM', 'SECRET_ACCESS_KEY')\n",
    ")"
   ]
  },
  {
   "cell_type": "code",
   "execution_count": 123,
   "id": "663392bf-cba5-4ab7-a3f5-5fc274a58ddd",
   "metadata": {},
   "outputs": [
    {
     "name": "stdout",
     "output_type": "stream",
     "text": [
      "cdp-22007687\n",
      "proyec2023\n"
     ]
    }
   ],
   "source": [
    "for bucket in s3.buckets.all():\n",
    "    S3_BUCKET_NAME = bucket.name\n",
    "    print(bucket.name)"
   ]
  },
  {
   "cell_type": "code",
   "execution_count": 124,
   "id": "c0d0f514-1dea-4d22-8d94-d44071dd8f6a",
   "metadata": {},
   "outputs": [],
   "source": [
    "S3_BUCKET_NAME = 'proyec2023'"
   ]
  },
  {
   "cell_type": "code",
   "execution_count": 125,
   "id": "7cdff091-1827-4d5c-8bf1-65e6dc3abbf3",
   "metadata": {},
   "outputs": [
    {
     "data": {
      "text/plain": [
       "['personas.csv', 'ventas.xlsx']"
      ]
     },
     "execution_count": 125,
     "metadata": {},
     "output_type": "execute_result"
    }
   ],
   "source": [
    "remoteFileList = []\n",
    "for objt in s3.Bucket(S3_BUCKET_NAME).objects.all():\n",
    "    remoteFileList.append(objt.key)\n",
    "\n",
    "remoteFileList"
   ]
  },
  {
   "cell_type": "code",
   "execution_count": 126,
   "id": "f154bb81-d0ab-4676-8b07-1522a274eaf5",
   "metadata": {},
   "outputs": [
    {
     "name": "stdout",
     "output_type": "stream",
     "text": [
      "personas.csv\n"
     ]
    }
   ],
   "source": [
    "import io  \n",
    "\n",
    "for remoteFile in remoteFileList:     \n",
    "  try:         \n",
    "     file = s3.Bucket(S3_BUCKET_NAME).Object(remoteFile).get()         \n",
    "     if('.csv' in remoteFile):             \n",
    "       print(remoteFile)            \n",
    "       personas= pd.read_csv(file['Body'],sep=\";\")             \n",
    "       personas.to_csv(remoteFile, index=False) \n",
    "     else:             \n",
    "       data = file['Body'].read()             \n",
    "       ventas= pd.read_excel(io.BytesIO(data), engine='openpyxl')             \n",
    "       ventas.to_excel(remoteFile, index=False)\n",
    "  except Exception as ex:         \n",
    "     print(\"No es un archivo.\")         \n",
    "     print(ex)"
   ]
  },
  {
   "cell_type": "markdown",
   "id": "cfa732b8",
   "metadata": {},
   "source": [
    "Limpieza de datos"
   ]
  },
  {
   "cell_type": "code",
   "execution_count": 127,
   "id": "695d9ec6",
   "metadata": {},
   "outputs": [
    {
     "data": {
      "text/html": [
       "<div>\n",
       "<style scoped>\n",
       "    .dataframe tbody tr th:only-of-type {\n",
       "        vertical-align: middle;\n",
       "    }\n",
       "\n",
       "    .dataframe tbody tr th {\n",
       "        vertical-align: top;\n",
       "    }\n",
       "\n",
       "    .dataframe thead th {\n",
       "        text-align: right;\n",
       "    }\n",
       "</style>\n",
       "<table border=\"1\" class=\"dataframe\">\n",
       "  <thead>\n",
       "    <tr style=\"text-align: right;\">\n",
       "      <th></th>\n",
       "      <th>id gerente</th>\n",
       "    </tr>\n",
       "  </thead>\n",
       "  <tbody>\n",
       "    <tr>\n",
       "      <th>count</th>\n",
       "      <td>4.000000</td>\n",
       "    </tr>\n",
       "    <tr>\n",
       "      <th>mean</th>\n",
       "      <td>1002.500000</td>\n",
       "    </tr>\n",
       "    <tr>\n",
       "      <th>std</th>\n",
       "      <td>1.290994</td>\n",
       "    </tr>\n",
       "    <tr>\n",
       "      <th>min</th>\n",
       "      <td>1001.000000</td>\n",
       "    </tr>\n",
       "    <tr>\n",
       "      <th>25%</th>\n",
       "      <td>1001.750000</td>\n",
       "    </tr>\n",
       "    <tr>\n",
       "      <th>50%</th>\n",
       "      <td>1002.500000</td>\n",
       "    </tr>\n",
       "    <tr>\n",
       "      <th>75%</th>\n",
       "      <td>1003.250000</td>\n",
       "    </tr>\n",
       "    <tr>\n",
       "      <th>max</th>\n",
       "      <td>1004.000000</td>\n",
       "    </tr>\n",
       "  </tbody>\n",
       "</table>\n",
       "</div>"
      ],
      "text/plain": [
       "        id gerente\n",
       "count     4.000000\n",
       "mean   1002.500000\n",
       "std       1.290994\n",
       "min    1001.000000\n",
       "25%    1001.750000\n",
       "50%    1002.500000\n",
       "75%    1003.250000\n",
       "max    1004.000000"
      ]
     },
     "execution_count": 127,
     "metadata": {},
     "output_type": "execute_result"
    }
   ],
   "source": [
    "personas.describe()"
   ]
  },
  {
   "cell_type": "code",
   "execution_count": 128,
   "id": "bb82099a",
   "metadata": {},
   "outputs": [
    {
     "name": "stdout",
     "output_type": "stream",
     "text": [
      "<class 'pandas.core.frame.DataFrame'>\n",
      "RangeIndex: 4 entries, 0 to 3\n",
      "Data columns (total 3 columns):\n",
      " #   Column            Non-Null Count  Dtype \n",
      "---  ------            --------------  ----- \n",
      " 0   id gerente        4 non-null      int64 \n",
      " 1   Región            4 non-null      object\n",
      " 2   Gerente regional  4 non-null      object\n",
      "dtypes: int64(1), object(2)\n",
      "memory usage: 224.0+ bytes\n"
     ]
    }
   ],
   "source": [
    "personas.info()"
   ]
  },
  {
   "cell_type": "code",
   "execution_count": 129,
   "id": "ae67fdc0",
   "metadata": {},
   "outputs": [
    {
     "data": {
      "text/plain": [
       "Index(['id gerente', 'Región', 'Gerente regional'], dtype='object')"
      ]
     },
     "execution_count": 129,
     "metadata": {},
     "output_type": "execute_result"
    }
   ],
   "source": [
    "personas.columns"
   ]
  },
  {
   "cell_type": "code",
   "execution_count": 130,
   "id": "fa509c8a",
   "metadata": {},
   "outputs": [
    {
     "data": {
      "text/html": [
       "<div>\n",
       "<style scoped>\n",
       "    .dataframe tbody tr th:only-of-type {\n",
       "        vertical-align: middle;\n",
       "    }\n",
       "\n",
       "    .dataframe tbody tr th {\n",
       "        vertical-align: top;\n",
       "    }\n",
       "\n",
       "    .dataframe thead th {\n",
       "        text-align: right;\n",
       "    }\n",
       "</style>\n",
       "<table border=\"1\" class=\"dataframe\">\n",
       "  <thead>\n",
       "    <tr style=\"text-align: right;\">\n",
       "      <th></th>\n",
       "      <th>Id. de la fila</th>\n",
       "      <th>Ventas</th>\n",
       "      <th>Cantidad</th>\n",
       "      <th>Descuento</th>\n",
       "      <th>Ganancia</th>\n",
       "    </tr>\n",
       "  </thead>\n",
       "  <tbody>\n",
       "    <tr>\n",
       "      <th>count</th>\n",
       "      <td>10254.000000</td>\n",
       "      <td>10254.000000</td>\n",
       "      <td>10254.000000</td>\n",
       "      <td>10254.000000</td>\n",
       "      <td>10254.000000</td>\n",
       "    </tr>\n",
       "    <tr>\n",
       "      <th>mean</th>\n",
       "      <td>5146.149308</td>\n",
       "      <td>2103.379037</td>\n",
       "      <td>3.740492</td>\n",
       "      <td>0.135709</td>\n",
       "      <td>214.737238</td>\n",
       "    </tr>\n",
       "    <tr>\n",
       "      <th>std</th>\n",
       "      <td>2970.876591</td>\n",
       "      <td>3491.494504</td>\n",
       "      <td>2.199333</td>\n",
       "      <td>0.195662</td>\n",
       "      <td>1189.617598</td>\n",
       "    </tr>\n",
       "    <tr>\n",
       "      <th>min</th>\n",
       "      <td>1.000000</td>\n",
       "      <td>15.660000</td>\n",
       "      <td>1.000000</td>\n",
       "      <td>0.000000</td>\n",
       "      <td>-18062.400000</td>\n",
       "    </tr>\n",
       "    <tr>\n",
       "      <th>25%</th>\n",
       "      <td>2574.250000</td>\n",
       "      <td>328.800000</td>\n",
       "      <td>2.000000</td>\n",
       "      <td>0.000000</td>\n",
       "      <td>-7.740000</td>\n",
       "    </tr>\n",
       "    <tr>\n",
       "      <th>50%</th>\n",
       "      <td>5146.500000</td>\n",
       "      <td>803.960000</td>\n",
       "      <td>3.000000</td>\n",
       "      <td>0.000000</td>\n",
       "      <td>80.000000</td>\n",
       "    </tr>\n",
       "    <tr>\n",
       "      <th>75%</th>\n",
       "      <td>7718.750000</td>\n",
       "      <td>2277.900000</td>\n",
       "      <td>5.000000</td>\n",
       "      <td>0.400000</td>\n",
       "      <td>325.800000</td>\n",
       "    </tr>\n",
       "    <tr>\n",
       "      <th>max</th>\n",
       "      <td>10288.000000</td>\n",
       "      <td>34740.800000</td>\n",
       "      <td>14.000000</td>\n",
       "      <td>0.800000</td>\n",
       "      <td>13132.800000</td>\n",
       "    </tr>\n",
       "  </tbody>\n",
       "</table>\n",
       "</div>"
      ],
      "text/plain": [
       "       Id. de la fila        Ventas      Cantidad     Descuento      Ganancia\n",
       "count    10254.000000  10254.000000  10254.000000  10254.000000  10254.000000\n",
       "mean      5146.149308   2103.379037      3.740492      0.135709    214.737238\n",
       "std       2970.876591   3491.494504      2.199333      0.195662   1189.617598\n",
       "min          1.000000     15.660000      1.000000      0.000000 -18062.400000\n",
       "25%       2574.250000    328.800000      2.000000      0.000000     -7.740000\n",
       "50%       5146.500000    803.960000      3.000000      0.000000     80.000000\n",
       "75%       7718.750000   2277.900000      5.000000      0.400000    325.800000\n",
       "max      10288.000000  34740.800000     14.000000      0.800000  13132.800000"
      ]
     },
     "execution_count": 130,
     "metadata": {},
     "output_type": "execute_result"
    }
   ],
   "source": [
    "ventas.describe()"
   ]
  },
  {
   "cell_type": "code",
   "execution_count": 131,
   "id": "97d622e2",
   "metadata": {},
   "outputs": [
    {
     "name": "stdout",
     "output_type": "stream",
     "text": [
      "<class 'pandas.core.frame.DataFrame'>\n",
      "RangeIndex: 10254 entries, 0 to 10253\n",
      "Data columns (total 20 columns):\n",
      " #   Column               Non-Null Count  Dtype         \n",
      "---  ------               --------------  -----         \n",
      " 0   Id. de la fila       10254 non-null  int64         \n",
      " 1   Id. del pedido       10254 non-null  object        \n",
      " 2   Fecha del pedido     10254 non-null  datetime64[ns]\n",
      " 3   Fecha de envío       10254 non-null  datetime64[ns]\n",
      " 4   Forma de envío       10254 non-null  object        \n",
      " 5   Id. del cliente      10254 non-null  object        \n",
      " 6   Nombre del cliente   10254 non-null  object        \n",
      " 7   Segmento             10254 non-null  object        \n",
      " 8   Ciudad               10254 non-null  object        \n",
      " 9   Estado               10254 non-null  object        \n",
      " 10  País/Región          10254 non-null  object        \n",
      " 11  Región               10254 non-null  object        \n",
      " 12  Id. del producto     10254 non-null  object        \n",
      " 13  Categoría            10254 non-null  object        \n",
      " 14  Subcategoría         10254 non-null  object        \n",
      " 15  Nombre del producto  10254 non-null  object        \n",
      " 16  Ventas               10254 non-null  float64       \n",
      " 17  Cantidad             10254 non-null  int64         \n",
      " 18  Descuento            10254 non-null  float64       \n",
      " 19  Ganancia             10254 non-null  float64       \n",
      "dtypes: datetime64[ns](2), float64(3), int64(2), object(13)\n",
      "memory usage: 1.6+ MB\n"
     ]
    }
   ],
   "source": [
    "ventas.info()"
   ]
  },
  {
   "cell_type": "code",
   "execution_count": 132,
   "id": "84c17b54",
   "metadata": {},
   "outputs": [],
   "source": [
    "### Eliminar Nan\n",
    "ventas.dropna(inplace=True)"
   ]
  },
  {
   "cell_type": "code",
   "execution_count": 133,
   "id": "6fe42b6b",
   "metadata": {},
   "outputs": [
    {
     "data": {
      "text/plain": [
       "794"
      ]
     },
     "execution_count": 133,
     "metadata": {},
     "output_type": "execute_result"
    }
   ],
   "source": [
    "### Cantidad de clientes\n",
    "\n",
    "clientes=ventas[['Id. del cliente', 'Nombre del cliente']]\n",
    "len(clientes['Id. del cliente'].unique())"
   ]
  },
  {
   "cell_type": "code",
   "execution_count": 134,
   "id": "512c4377",
   "metadata": {},
   "outputs": [],
   "source": [
    "## Total ventas por cliente\n",
    "vtasc=ventas.groupby(['Nombre del cliente'])['Ventas'].sum()"
   ]
  },
  {
   "cell_type": "code",
   "execution_count": 135,
   "id": "55904498",
   "metadata": {},
   "outputs": [
    {
     "data": {
      "text/plain": [
       "Nombre del cliente\n",
       "Aarón Navarrete     747.0\n",
       "Abel Ángel          383.0\n",
       "Abraham Cedillo     164.0\n",
       "Abril Ferrer        636.0\n",
       "Adela Blanco        206.0\n",
       "                    ...  \n",
       "Érica Casas         794.0\n",
       "Íñigo Leal           66.0\n",
       "Óscar Alba          235.0\n",
       "Óscar Armendáriz    213.0\n",
       "Úrsula Soto         276.0\n",
       "Name: Ventas, Length: 794, dtype: float64"
      ]
     },
     "execution_count": 135,
     "metadata": {},
     "output_type": "execute_result"
    }
   ],
   "source": [
    "## Ranking de clientes \n",
    "\n",
    "Rankclientes=vtasc.rank(numeric_only=True)\n",
    "Rankclientes"
   ]
  },
  {
   "cell_type": "code",
   "execution_count": 136,
   "id": "e23efe33",
   "metadata": {},
   "outputs": [],
   "source": [
    "aws_conn = boto3.client('rds', aws_access_key_id=config.get('IAM', 'ACCESS_KEY'),\n",
    "                    aws_secret_access_key=config.get('IAM', 'SECRET_ACCESS_KEY'),\n",
    "                    region_name='us-east-1')"
   ]
  },
  {
   "cell_type": "code",
   "execution_count": 137,
   "id": "49f5f839-42e7-425b-a377-78f95342d46f",
   "metadata": {},
   "outputs": [],
   "source": [
    "rdsIdentifier = 'proyecto' #nombre de la instancia"
   ]
  },
  {
   "cell_type": "code",
   "execution_count": 138,
   "id": "ef2cd6ec",
   "metadata": {},
   "outputs": [
    {
     "name": "stdout",
     "output_type": "stream",
     "text": [
      "DBInstanceIds ['banco-db', 'dw-db', 'proyecto']\n"
     ]
    }
   ],
   "source": [
    "rdsInstanceIds = []\n",
    "\n",
    "response = aws_conn.describe_db_instances()\n",
    "for resp in response['DBInstances']:\n",
    "    rdsInstanceIds.append(resp['DBInstanceIdentifier'])\n",
    "    db_instance_status = resp['DBInstanceStatus']\n",
    "\n",
    "print(f\"DBInstanceIds {rdsInstanceIds}\")"
   ]
  },
  {
   "cell_type": "code",
   "execution_count": 139,
   "id": "e1e5e6e8",
   "metadata": {},
   "outputs": [
    {
     "name": "stdout",
     "output_type": "stream",
     "text": [
      "La Instancia de Base de Datos ya Existe.\n"
     ]
    }
   ],
   "source": [
    "try:\n",
    "    response = aws_conn.create_db_instance(\n",
    "            AllocatedStorage=10,\n",
    "            DBName=config.get('RDS', 'DB_NAME'),\n",
    "            DBInstanceIdentifier=rdsIdentifier,\n",
    "            DBInstanceClass=\"db.t3.micro\",\n",
    "            Engine=\"postgres\",\n",
    "            MasterUsername=config.get('RDS', 'DB_USER'),\n",
    "            MasterUserPassword=config.get('RDS', 'DB_PASSWORD'),\n",
    "            Port=int(config.get('RDS', 'DB_PORT')),\n",
    "            VpcSecurityGroupIds=[config.get('VPC', 'SECURITY_GROUP')],\n",
    "            PubliclyAccessible=True\n",
    "        )\n",
    "    print(response)\n",
    "except aws_conn.exceptions.DBInstanceAlreadyExistsFault as ex:\n",
    "    print(\"La Instancia de Base de Datos ya Existe.\")"
   ]
  },
  {
   "cell_type": "code",
   "execution_count": 140,
   "id": "e9a7dbfb",
   "metadata": {},
   "outputs": [
    {
     "name": "stdout",
     "output_type": "stream",
     "text": [
      "proyecto.cjsvaexfxmdn.us-east-1.rds.amazonaws.com\n"
     ]
    }
   ],
   "source": [
    "try:\n",
    "     instances = aws_conn.describe_db_instances(DBInstanceIdentifier=rdsIdentifier)\n",
    "     RDS_HOST = instances.get('DBInstances')[0].get('Endpoint').get('Address')\n",
    "     print(RDS_HOST)\n",
    "except Exception as ex:\n",
    "     print(\"La instancia de base de datos no existe o aun no se ha terminado de crear.\")\n",
    "     print(ex)"
   ]
  },
  {
   "cell_type": "code",
   "execution_count": 141,
   "id": "c1150041",
   "metadata": {},
   "outputs": [
    {
     "name": "stdout",
     "output_type": "stream",
     "text": [
      "Base de Datos Creada Exitosamente\n"
     ]
    }
   ],
   "source": [
    "import sql_qproy1\n",
    "\n",
    "try:\n",
    "    db_conn = psycopg2.connect(\n",
    "        database=config.get('RDS', 'DB_NAME'), \n",
    "        user=config.get('RDS', 'DB_USER'),\n",
    "        password=config.get('RDS', 'DB_PASSWORD'), \n",
    "        host=RDS_HOST,\n",
    "        port=config.get('RDS', 'DB_PORT')\n",
    "    )\n",
    "\n",
    "    cursor = db_conn.cursor()\n",
    "    cursor.execute(sql_qproy1.DDL_QUERY)\n",
    "    db_conn.commit()\n",
    "    print(\"Base de Datos Creada Exitosamente\")\n",
    "except Exception as ex:\n",
    "    print(\"ERROR: Error al crear la base de datos.\")\n",
    "    print(ex) "
   ]
  },
  {
   "cell_type": "code",
   "execution_count": 142,
   "id": "7a9c79e6",
   "metadata": {},
   "outputs": [],
   "source": [
    "postgres_driver = f\"\"\"postgresql://{config.get('RDS', 'DB_USER')}:{config.get('RDS', 'DB_PASSWORD')}@{RDS_HOST}:{config.get('RDS', 'DB_PORT')}/{config.get('RDS', 'DB_NAME')}\"\"\"  "
   ]
  },
  {
   "cell_type": "code",
   "execution_count": 143,
   "id": "b3ee33d4",
   "metadata": {},
   "outputs": [],
   "source": [
    "def insertDataToSQL(data_dict, table_name):\n",
    "     postgres_driver = f\"\"\"postgresql://{config.get('RDS', 'DB_USER')}:{config.get('RDS', 'DB_PASSWORD')}@{RDS_HOST}:{config.get('RDS', 'DB_PORT')}/{config.get('RDS', 'DB_NAME')}\"\"\"    \n",
    "     df_data = pd.DataFrame.from_records(data_dict)\n",
    "     try:\n",
    "          response = df_data.to_sql(table_name, postgres_driver, index=False, if_exists='append')\n",
    "          print(f'Se han insertado {response} nuevos registros.' )\n",
    "     except Exception as ex:\n",
    "          print(ex)"
   ]
  },
  {
   "cell_type": "code",
   "execution_count": 145,
   "id": "0914eb42",
   "metadata": {},
   "outputs": [],
   "source": [
    "conn_string = f\"\"\"postgresql://{config.get('RDS', 'DB_USER')}:{config.get('RDS', 'DB_PASSWORD')}@{RDS_HOST}:{config.get('RDS', 'DB_PORT')}/{config.get('RDS', 'DB_NAME')}\"\"\"    \n",
    "\n",
    "personas.to_sql('personas', conn_string, if_exists='replace')\n",
    "\n",
    "conn_string = psycopg2.connect(conn_string)"
   ]
  },
  {
   "cell_type": "code",
   "execution_count": 146,
   "id": "e3755339-d36f-46da-8d0b-e504d92dda25",
   "metadata": {},
   "outputs": [],
   "source": [
    "conn_string = f\"\"\"postgresql://{config.get('RDS', 'DB_USER')}:{config.get('RDS', 'DB_PASSWORD')}@{RDS_HOST}:{config.get('RDS', 'DB_PORT')}/{config.get('RDS', 'DB_NAME')}\"\"\"    \n",
    "\n",
    "ventas.to_sql('ventas', conn_string, if_exists='replace')\n",
    "\n",
    "conn_string = psycopg2.connect(conn_string)"
   ]
  }
 ],
 "metadata": {
  "kernelspec": {
   "display_name": "Python 3 (ipykernel)",
   "language": "python",
   "name": "python3"
  },
  "language_info": {
   "codemirror_mode": {
    "name": "ipython",
    "version": 3
   },
   "file_extension": ".py",
   "mimetype": "text/x-python",
   "name": "python",
   "nbconvert_exporter": "python",
   "pygments_lexer": "ipython3",
   "version": "3.9.12"
  }
 },
 "nbformat": 4,
 "nbformat_minor": 5
}
